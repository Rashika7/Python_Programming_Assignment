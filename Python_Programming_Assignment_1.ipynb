{
 "cells": [
  {
   "cell_type": "markdown",
   "id": "c03d5b0a",
   "metadata": {},
   "source": [
    "# 1) Write a Python program to print \"Hello Python\"?"
   ]
  },
  {
   "cell_type": "code",
   "execution_count": 2,
   "id": "2c5cdd3d",
   "metadata": {},
   "outputs": [
    {
     "name": "stdout",
     "output_type": "stream",
     "text": [
      "\"Hello Python\"\n"
     ]
    }
   ],
   "source": [
    "#Ans-1) \n",
    "print('\"Hello Python\"')"
   ]
  },
  {
   "cell_type": "markdown",
   "id": "7022c512",
   "metadata": {},
   "source": [
    "# 2) Write a Python program to do arithmetical operations addition and division.?"
   ]
  },
  {
   "cell_type": "code",
   "execution_count": 3,
   "id": "d3db2a4c",
   "metadata": {},
   "outputs": [],
   "source": [
    "def a(*args):\n",
    "    return sum(args) "
   ]
  },
  {
   "cell_type": "code",
   "execution_count": 4,
   "id": "072dc7a4",
   "metadata": {},
   "outputs": [
    {
     "data": {
      "text/plain": [
       "10"
      ]
     },
     "execution_count": 4,
     "metadata": {},
     "output_type": "execute_result"
    }
   ],
   "source": [
    "a(1,2,3,4)"
   ]
  },
  {
   "cell_type": "code",
   "execution_count": 5,
   "id": "a6adf862",
   "metadata": {},
   "outputs": [
    {
     "name": "stdout",
     "output_type": "stream",
     "text": [
      "Enter dividend12\n",
      "Enter divisor3\n"
     ]
    },
    {
     "data": {
      "text/plain": [
       "4.0"
      ]
     },
     "execution_count": 5,
     "metadata": {},
     "output_type": "execute_result"
    }
   ],
   "source": [
    "# For division\n",
    "a=int(input(\"Enter dividend\"))\n",
    "b=int(input(\"Enter divisor\"))\n",
    "def c(a,b):\n",
    "    if a>=0 and b>0:\n",
    "        return a/b\n",
    "    else:\n",
    "        print(\"b doesn't take value zero\")\n",
    "c(a,b)"
   ]
  },
  {
   "cell_type": "markdown",
   "id": "ae58ad0d",
   "metadata": {},
   "source": [
    "# 3) Write a Python program to find the area of a triangle?"
   ]
  },
  {
   "cell_type": "code",
   "execution_count": 12,
   "id": "124ec19f",
   "metadata": {},
   "outputs": [
    {
     "name": "stdout",
     "output_type": "stream",
     "text": [
      "Enter_base_value:3.5\n",
      "Enter_height_value:4\n"
     ]
    },
    {
     "data": {
      "text/plain": [
       "7.0"
      ]
     },
     "execution_count": 12,
     "metadata": {},
     "output_type": "execute_result"
    }
   ],
   "source": [
    "b=float(input(\"Enter_base_value:\"))\n",
    "h=float(input(\"Enter_height_value:\"))\n",
    "def area_of_triangle(b,h):\n",
    "    return 0.5*b*h\n",
    "area_of_triangle(b,h)"
   ]
  },
  {
   "cell_type": "markdown",
   "id": "faab4b83",
   "metadata": {},
   "source": [
    "# 4) Write a Python program to swap two variables?"
   ]
  },
  {
   "cell_type": "code",
   "execution_count": 14,
   "id": "67f3edb5",
   "metadata": {},
   "outputs": [
    {
     "name": "stdout",
     "output_type": "stream",
     "text": [
      "First variable100\n",
      "Second variable200\n",
      "\n",
      "Before swap a = 100 and b = 200\n",
      "\n",
      "After swaping a = 200 and b = 100\n",
      "\n"
     ]
    }
   ],
   "source": [
    "a=int(input(\"First variable\"))\n",
    "b=int(input(\"Second variable\"))\n",
    "print(\"\\nBefore swap a = %d and b = %d\" %(a, b))\n",
    "a, b = b, a\n",
    "print(\"\\nAfter swaping a = %d and b = %d\" %(a, b))\n",
    "print()"
   ]
  },
  {
   "cell_type": "markdown",
   "id": "14a8c2e4",
   "metadata": {},
   "source": [
    "# 5) Write a Python program to generate a random number?"
   ]
  },
  {
   "cell_type": "code",
   "execution_count": 16,
   "id": "11eab162",
   "metadata": {},
   "outputs": [
    {
     "name": "stdout",
     "output_type": "stream",
     "text": [
      "Min value10\n",
      "Max value20\n",
      "15\n"
     ]
    }
   ],
   "source": [
    "import random\n",
    "a=int(input(\"Min value\"))\n",
    "b=int(input(\"Max value\"))\n",
    "x = random.randint(a,b)\n",
    "print(x) "
   ]
  },
  {
   "cell_type": "markdown",
   "id": "ec941fbe",
   "metadata": {},
   "source": [
    "                                      Keep Learning, Keep Growing..."
   ]
  }
 ],
 "metadata": {
  "kernelspec": {
   "display_name": "Python 3 (ipykernel)",
   "language": "python",
   "name": "python3"
  },
  "language_info": {
   "codemirror_mode": {
    "name": "ipython",
    "version": 3
   },
   "file_extension": ".py",
   "mimetype": "text/x-python",
   "name": "python",
   "nbconvert_exporter": "python",
   "pygments_lexer": "ipython3",
   "version": "3.9.7"
  }
 },
 "nbformat": 4,
 "nbformat_minor": 5
}
